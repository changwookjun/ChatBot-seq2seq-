{
 "cells": [
  {
   "cell_type": "markdown",
   "metadata": {},
   "source": [
    "# 패키지 불러오기"
   ]
  },
  {
   "cell_type": "code",
   "execution_count": 1,
   "metadata": {},
   "outputs": [],
   "source": [
    "import tensorflow as tf\n",
    "import model as ml\n",
    "import data\n",
    "import numpy as np\n",
    "import os\n",
    "import sys\n",
    "\n",
    "from configs import DEFINES"
   ]
  },
  {
   "cell_type": "markdown",
   "metadata": {},
   "source": [
    "# 사전 만들기"
   ]
  },
  {
   "cell_type": "code",
   "execution_count": 2,
   "metadata": {},
   "outputs": [],
   "source": [
    "DATA_OUT_PATH = './data_out/'\n",
    "data_out_path = os.path.join(os.getcwd(), DATA_OUT_PATH)\n",
    "os.makedirs(data_out_path, exist_ok=True)\n",
    "char2idx,  idx2char, vocabulary_length = data.load_vocabulary()"
   ]
  },
  {
   "cell_type": "markdown",
   "metadata": {},
   "source": [
    "# 데이터 만들기"
   ]
  },
  {
   "cell_type": "code",
   "execution_count": 4,
   "metadata": {},
   "outputs": [
    {
     "name": "stderr",
     "output_type": "stream",
     "text": [
      "/home/evo_mind/anaconda3/lib/python3.6/site-packages/konlpy/tag/_okt.py:16: UserWarning: \"Twitter\" has changed to \"Okt\" since KoNLPy v0.4.5.\n",
      "  warn('\"Twitter\" has changed to \"Okt\" since KoNLPy v0.4.5.')\n",
      "100%|██████████| 7921/7921 [00:11<00:00, 664.58it/s]\n",
      "100%|██████████| 7921/7921 [00:13<00:00, 598.28it/s]\n",
      "100%|██████████| 7921/7921 [00:13<00:00, 597.28it/s]\n",
      "100%|██████████| 3902/3902 [00:05<00:00, 780.32it/s]\n",
      "100%|██████████| 3902/3902 [00:06<00:00, 608.54it/s]\n",
      "100%|██████████| 3902/3902 [00:06<00:00, 608.00it/s]\n"
     ]
    }
   ],
   "source": [
    "train_input, train_label, eval_input, eval_label = data.load_data()\n",
    "\n",
    "# 훈련셋 인코딩 만드는 부분이다.\n",
    "train_input_enc, train_input_enc_length = data.enc_processing(train_input, char2idx)\n",
    "# 훈련셋 디코딩 입력 부분 만드는 부분이다.\n",
    "train_output_dec, train_output_dec_length = data.dec_output_processing(train_label, char2idx)\n",
    "# 훈련셋 디코딩 출력 부분 만드는 부분이다.\n",
    "train_target_dec = data.dec_target_processing(train_label, char2idx)\n",
    "\n",
    "# 평가셋 인코딩 만드는 부분이다.\n",
    "eval_input_enc, eval_input_enc_length = data.enc_processing(eval_input,char2idx)\n",
    "# 평가셋 인코딩 만드는 부분이다.\n",
    "eval_output_dec, eval_output_dec_length = data.dec_output_processing(eval_label, char2idx)\n",
    "# 평가셋 인코딩 만드는 부분이다.\n",
    "eval_target_dec = data.dec_target_processing(eval_label, char2idx)"
   ]
  },
  {
   "cell_type": "markdown",
   "metadata": {},
   "source": [
    "# 체크 포인트 경로 만들기"
   ]
  },
  {
   "cell_type": "code",
   "execution_count": 5,
   "metadata": {},
   "outputs": [],
   "source": [
    "# 현재 경로'./'에 현재 경로 하부에 \n",
    "# 체크 포인트를 저장한 디렉토리를 설정한다.\n",
    "check_point_path = os.path.join(os.getcwd(), DEFINES.check_point_path)\n",
    "# 디렉토리를 만드는 함수이며 두번째 인자 exist_ok가 \n",
    "# True이면 디렉토리가 이미 존재해도 OSError가 \n",
    "# 발생하지 않는다.\n",
    "# exist_ok가 False이면 이미 존재하면 \n",
    "# OSError가 발생한다.\n",
    "os.makedirs(check_point_path, exist_ok=True)"
   ]
  },
  {
   "cell_type": "markdown",
   "metadata": {},
   "source": [
    "# 에스티 메이터 구성"
   ]
  },
  {
   "cell_type": "code",
   "execution_count": 6,
   "metadata": {},
   "outputs": [
    {
     "name": "stdout",
     "output_type": "stream",
     "text": [
      "INFO:tensorflow:Using default config.\n",
      "INFO:tensorflow:Using config: {'_model_dir': './data_out/check_point', '_tf_random_seed': None, '_save_summary_steps': 100, '_save_checkpoints_steps': None, '_save_checkpoints_secs': 600, '_session_config': allow_soft_placement: true\n",
      "graph_options {\n",
      "  rewrite_options {\n",
      "    meta_optimizer_iterations: ONE\n",
      "  }\n",
      "}\n",
      ", '_keep_checkpoint_max': 5, '_keep_checkpoint_every_n_hours': 10000, '_log_step_count_steps': 100, '_train_distribute': None, '_device_fn': None, '_protocol': None, '_eval_distribute': None, '_experimental_distribute': None, '_service': None, '_cluster_spec': <tensorflow.python.training.server_lib.ClusterSpec object at 0x7f5e00067f98>, '_task_type': 'worker', '_task_id': 0, '_global_id_in_cluster': 0, '_master': '', '_evaluation_master': '', '_is_chief': True, '_num_ps_replicas': 0, '_num_worker_replicas': 1}\n"
     ]
    }
   ],
   "source": [
    "# 에스티메이터 구성한다.\n",
    "classifier = tf.estimator.Estimator(\n",
    "        model_fn=ml.Model, # 모델 등록한다.\n",
    "        model_dir=DEFINES.check_point_path, # 체크포인트 위치 등록한다.\n",
    "        params={ # 모델 쪽으로 파라메터 전달한다.\n",
    "            'hidden_size': DEFINES.hidden_size, # 가중치 크기 설정한다.\n",
    "            'layer_size': DEFINES.layer_size, # 멀티 레이어 층 개수를 설정한다.\n",
    "            'learning_rate': DEFINES.learning_rate, # 학습율 설정한다. \n",
    "            'vocabulary_length': vocabulary_length, # 딕셔너리 크기를 설정한다.\n",
    "            'embedding_size': DEFINES.embedding_size, # 임베딩 크기를 설정한다.\n",
    "            'embedding': DEFINES.embedding, # 임베딩 사용 유무를 설정한다.\n",
    "            'multilayer': DEFINES.multilayer, # 멀티 레이어 사용 유무를 설정한다.\n",
    "        })"
   ]
  },
  {
   "cell_type": "markdown",
   "metadata": {},
   "source": [
    "# 학습 실행"
   ]
  },
  {
   "cell_type": "code",
   "execution_count": null,
   "metadata": {},
   "outputs": [
    {
     "name": "stdout",
     "output_type": "stream",
     "text": [
      "INFO:tensorflow:Calling model_fn.\n",
      "WARNING:tensorflow:From /home/evo_mind/DeepLearning/NLP/Work/6.3_code_convention/model.py:8: BasicLSTMCell.__init__ (from tensorflow.python.ops.rnn_cell_impl) is deprecated and will be removed in a future version.\n",
      "Instructions for updating:\n",
      "This class is deprecated, please use tf.nn.rnn_cell.LSTMCell, which supports all the feature this cell currently has. Please replace the existing code with tf.nn.rnn_cell.LSTMCell(name='basic_lstm_cell').\n",
      "INFO:tensorflow:Done calling model_fn.\n",
      "INFO:tensorflow:Create CheckpointSaverHook.\n",
      "INFO:tensorflow:Graph was finalized.\n",
      "INFO:tensorflow:Restoring parameters from ./data_out/check_point/model.ckpt-262\n",
      "INFO:tensorflow:Running local_init_op.\n",
      "INFO:tensorflow:Done running local_init_op.\n",
      "INFO:tensorflow:Saving checkpoints for 262 into ./data_out/check_point/model.ckpt.\n",
      "INFO:tensorflow:loss = 1.7481607, step = 262\n",
      "INFO:tensorflow:global_step/sec: 22.4176\n",
      "INFO:tensorflow:loss = 1.7077413, step = 362 (4.461 sec)\n",
      "INFO:tensorflow:global_step/sec: 25.3801\n",
      "INFO:tensorflow:loss = 1.5060279, step = 462 (3.940 sec)\n",
      "INFO:tensorflow:global_step/sec: 25.404\n",
      "INFO:tensorflow:loss = 1.4165833, step = 562 (3.936 sec)\n",
      "INFO:tensorflow:global_step/sec: 25.4553\n",
      "INFO:tensorflow:loss = 1.2240549, step = 662 (3.928 sec)\n",
      "INFO:tensorflow:global_step/sec: 25.3715\n",
      "INFO:tensorflow:loss = 1.1467816, step = 762 (3.942 sec)\n",
      "INFO:tensorflow:global_step/sec: 25.4344\n",
      "INFO:tensorflow:loss = 1.3440051, step = 862 (3.932 sec)\n",
      "INFO:tensorflow:global_step/sec: 25.4429\n",
      "INFO:tensorflow:loss = 1.3058352, step = 962 (3.931 sec)\n",
      "INFO:tensorflow:global_step/sec: 25.3436\n",
      "INFO:tensorflow:loss = 1.2491145, step = 1062 (3.945 sec)\n",
      "INFO:tensorflow:global_step/sec: 25.4103\n",
      "INFO:tensorflow:loss = 1.2442749, step = 1162 (3.936 sec)\n",
      "INFO:tensorflow:global_step/sec: 25.3937\n",
      "INFO:tensorflow:loss = 1.3240803, step = 1262 (3.938 sec)\n",
      "INFO:tensorflow:global_step/sec: 25.4005\n",
      "INFO:tensorflow:loss = 1.232855, step = 1362 (3.937 sec)\n",
      "INFO:tensorflow:global_step/sec: 25.3858\n",
      "INFO:tensorflow:loss = 1.3552493, step = 1462 (3.939 sec)\n",
      "INFO:tensorflow:global_step/sec: 25.3422\n",
      "INFO:tensorflow:loss = 1.1546375, step = 1562 (3.946 sec)\n",
      "INFO:tensorflow:global_step/sec: 25.3646\n",
      "INFO:tensorflow:loss = 1.1384121, step = 1662 (3.942 sec)\n",
      "INFO:tensorflow:global_step/sec: 25.3536\n",
      "INFO:tensorflow:loss = 1.1365981, step = 1762 (3.944 sec)\n",
      "INFO:tensorflow:global_step/sec: 25.4313\n",
      "INFO:tensorflow:loss = 1.2721877, step = 1862 (3.932 sec)\n",
      "INFO:tensorflow:global_step/sec: 25.2949\n",
      "INFO:tensorflow:loss = 1.2337521, step = 1962 (3.953 sec)\n",
      "INFO:tensorflow:global_step/sec: 25.3434\n",
      "INFO:tensorflow:loss = 1.1780827, step = 2062 (3.946 sec)\n",
      "INFO:tensorflow:global_step/sec: 25.3748\n",
      "INFO:tensorflow:loss = 1.1539731, step = 2162 (3.941 sec)\n",
      "INFO:tensorflow:global_step/sec: 25.3113\n",
      "INFO:tensorflow:loss = 1.1288252, step = 2262 (3.952 sec)\n",
      "INFO:tensorflow:global_step/sec: 25.3592\n",
      "INFO:tensorflow:loss = 1.2101576, step = 2362 (3.943 sec)\n",
      "INFO:tensorflow:global_step/sec: 25.355\n",
      "INFO:tensorflow:loss = 1.0898293, step = 2462 (3.944 sec)\n",
      "INFO:tensorflow:global_step/sec: 25.4031\n",
      "INFO:tensorflow:loss = 1.0976427, step = 2562 (3.937 sec)\n",
      "INFO:tensorflow:global_step/sec: 25.3026\n",
      "INFO:tensorflow:loss = 1.0879505, step = 2662 (3.952 sec)\n",
      "INFO:tensorflow:global_step/sec: 25.316\n",
      "INFO:tensorflow:loss = 1.2381501, step = 2762 (3.950 sec)\n",
      "INFO:tensorflow:global_step/sec: 25.4019\n",
      "INFO:tensorflow:loss = 1.142198, step = 2862 (3.937 sec)\n",
      "INFO:tensorflow:global_step/sec: 25.4367\n",
      "INFO:tensorflow:loss = 1.0126325, step = 2962 (3.931 sec)\n",
      "INFO:tensorflow:global_step/sec: 25.314\n",
      "INFO:tensorflow:loss = 1.0603069, step = 3062 (3.950 sec)\n",
      "INFO:tensorflow:global_step/sec: 25.3599\n",
      "INFO:tensorflow:loss = 1.0330621, step = 3162 (3.943 sec)\n",
      "INFO:tensorflow:global_step/sec: 25.3837\n",
      "INFO:tensorflow:loss = 1.0656112, step = 3262 (3.940 sec)\n",
      "INFO:tensorflow:global_step/sec: 25.3503\n",
      "INFO:tensorflow:loss = 0.9618677, step = 3362 (3.945 sec)\n",
      "INFO:tensorflow:global_step/sec: 25.4261\n",
      "INFO:tensorflow:loss = 0.93638533, step = 3462 (3.933 sec)\n",
      "INFO:tensorflow:global_step/sec: 25.3885\n",
      "INFO:tensorflow:loss = 1.1807884, step = 3562 (3.939 sec)\n",
      "INFO:tensorflow:global_step/sec: 25.4161\n",
      "INFO:tensorflow:loss = 1.1049294, step = 3662 (3.934 sec)\n",
      "INFO:tensorflow:global_step/sec: 25.3027\n",
      "INFO:tensorflow:loss = 0.9731813, step = 3762 (3.952 sec)\n",
      "INFO:tensorflow:global_step/sec: 25.3888\n",
      "INFO:tensorflow:loss = 1.0440992, step = 3862 (3.939 sec)\n",
      "INFO:tensorflow:global_step/sec: 25.3572\n",
      "INFO:tensorflow:loss = 1.0556829, step = 3962 (3.944 sec)\n",
      "INFO:tensorflow:global_step/sec: 25.4314\n",
      "INFO:tensorflow:loss = 0.9651419, step = 4062 (3.932 sec)\n",
      "INFO:tensorflow:global_step/sec: 25.4059\n",
      "INFO:tensorflow:loss = 0.95166147, step = 4162 (3.936 sec)\n",
      "INFO:tensorflow:global_step/sec: 25.4002\n",
      "INFO:tensorflow:loss = 1.061512, step = 4262 (3.937 sec)\n",
      "INFO:tensorflow:global_step/sec: 25.3445\n",
      "INFO:tensorflow:loss = 0.90380937, step = 4362 (3.945 sec)\n",
      "INFO:tensorflow:global_step/sec: 25.4256\n",
      "INFO:tensorflow:loss = 1.1405716, step = 4462 (3.933 sec)\n",
      "INFO:tensorflow:global_step/sec: 25.3791\n",
      "INFO:tensorflow:loss = 0.8751532, step = 4562 (3.940 sec)\n",
      "INFO:tensorflow:global_step/sec: 25.3313\n",
      "INFO:tensorflow:loss = 0.9475259, step = 4662 (3.948 sec)\n",
      "INFO:tensorflow:global_step/sec: 25.3628\n",
      "INFO:tensorflow:loss = 1.048888, step = 4762 (3.943 sec)\n",
      "INFO:tensorflow:global_step/sec: 25.3483\n",
      "INFO:tensorflow:loss = 1.1492474, step = 4862 (3.945 sec)\n",
      "INFO:tensorflow:global_step/sec: 25.4398\n",
      "INFO:tensorflow:loss = 0.9010735, step = 4962 (3.931 sec)\n",
      "INFO:tensorflow:global_step/sec: 25.3807\n",
      "INFO:tensorflow:loss = 0.8014199, step = 5062 (3.940 sec)\n",
      "INFO:tensorflow:global_step/sec: 25.4004\n",
      "INFO:tensorflow:loss = 0.8734858, step = 5162 (3.937 sec)\n",
      "INFO:tensorflow:global_step/sec: 25.3834\n",
      "INFO:tensorflow:loss = 0.9104228, step = 5262 (3.940 sec)\n",
      "INFO:tensorflow:global_step/sec: 25.4272\n",
      "INFO:tensorflow:loss = 0.80469346, step = 5362 (3.933 sec)\n",
      "INFO:tensorflow:global_step/sec: 25.4771\n",
      "INFO:tensorflow:loss = 0.8668257, step = 5462 (3.925 sec)\n",
      "INFO:tensorflow:global_step/sec: 25.4209\n",
      "INFO:tensorflow:loss = 0.90451866, step = 5562 (3.934 sec)\n",
      "INFO:tensorflow:global_step/sec: 25.3716\n",
      "INFO:tensorflow:loss = 0.9080345, step = 5662 (3.941 sec)\n",
      "INFO:tensorflow:global_step/sec: 25.3751\n",
      "INFO:tensorflow:loss = 1.0976691, step = 5762 (3.941 sec)\n",
      "INFO:tensorflow:global_step/sec: 25.3303\n",
      "INFO:tensorflow:loss = 0.9239911, step = 5862 (3.948 sec)\n",
      "INFO:tensorflow:global_step/sec: 25.4408\n",
      "INFO:tensorflow:loss = 0.9358791, step = 5962 (3.931 sec)\n",
      "INFO:tensorflow:global_step/sec: 25.328\n",
      "INFO:tensorflow:loss = 0.86664736, step = 6062 (3.948 sec)\n",
      "INFO:tensorflow:global_step/sec: 25.4228\n",
      "INFO:tensorflow:loss = 0.8450388, step = 6162 (3.933 sec)\n",
      "INFO:tensorflow:global_step/sec: 25.3333\n",
      "INFO:tensorflow:loss = 0.8709211, step = 6262 (3.947 sec)\n",
      "INFO:tensorflow:global_step/sec: 25.3809\n",
      "INFO:tensorflow:loss = 0.7959481, step = 6362 (3.940 sec)\n",
      "INFO:tensorflow:global_step/sec: 25.3799\n",
      "INFO:tensorflow:loss = 0.8376227, step = 6462 (3.940 sec)\n",
      "INFO:tensorflow:global_step/sec: 25.3729\n",
      "INFO:tensorflow:loss = 0.91290665, step = 6562 (3.941 sec)\n",
      "INFO:tensorflow:global_step/sec: 25.3915\n",
      "INFO:tensorflow:loss = 0.83600783, step = 6662 (3.938 sec)\n",
      "INFO:tensorflow:global_step/sec: 25.3823\n",
      "INFO:tensorflow:loss = 0.8193907, step = 6762 (3.940 sec)\n",
      "INFO:tensorflow:global_step/sec: 25.3845\n",
      "INFO:tensorflow:loss = 0.97950053, step = 6862 (3.939 sec)\n",
      "INFO:tensorflow:global_step/sec: 25.3806\n",
      "INFO:tensorflow:loss = 0.8233516, step = 6962 (3.940 sec)\n",
      "INFO:tensorflow:global_step/sec: 25.4029\n",
      "INFO:tensorflow:loss = 1.042843, step = 7062 (3.937 sec)\n",
      "INFO:tensorflow:global_step/sec: 25.357\n",
      "INFO:tensorflow:loss = 0.8945746, step = 7162 (3.944 sec)\n",
      "INFO:tensorflow:global_step/sec: 25.3667\n",
      "INFO:tensorflow:loss = 0.8695013, step = 7262 (3.943 sec)\n",
      "INFO:tensorflow:global_step/sec: 25.3657\n",
      "INFO:tensorflow:loss = 0.8266861, step = 7362 (3.941 sec)\n",
      "INFO:tensorflow:global_step/sec: 25.3551\n",
      "INFO:tensorflow:loss = 0.756821, step = 7462 (3.944 sec)\n",
      "INFO:tensorflow:global_step/sec: 25.415\n",
      "INFO:tensorflow:loss = 0.8253685, step = 7562 (3.935 sec)\n",
      "INFO:tensorflow:global_step/sec: 25.4085\n",
      "INFO:tensorflow:loss = 0.8328812, step = 7662 (3.935 sec)\n"
     ]
    },
    {
     "name": "stdout",
     "output_type": "stream",
     "text": [
      "INFO:tensorflow:global_step/sec: 25.4491\n",
      "INFO:tensorflow:loss = 0.8024935, step = 7762 (3.930 sec)\n",
      "INFO:tensorflow:global_step/sec: 25.4182\n",
      "INFO:tensorflow:loss = 0.84670943, step = 7862 (3.934 sec)\n",
      "INFO:tensorflow:global_step/sec: 25.346\n",
      "INFO:tensorflow:loss = 0.78669244, step = 7962 (3.945 sec)\n",
      "INFO:tensorflow:global_step/sec: 25.4118\n",
      "INFO:tensorflow:loss = 0.8403996, step = 8062 (3.935 sec)\n",
      "INFO:tensorflow:global_step/sec: 25.3706\n",
      "INFO:tensorflow:loss = 0.79687446, step = 8162 (3.942 sec)\n",
      "INFO:tensorflow:global_step/sec: 25.3755\n",
      "INFO:tensorflow:loss = 0.8370885, step = 8262 (3.941 sec)\n",
      "INFO:tensorflow:global_step/sec: 25.3978\n",
      "INFO:tensorflow:loss = 0.7145914, step = 8362 (3.937 sec)\n",
      "INFO:tensorflow:global_step/sec: 25.3618\n",
      "INFO:tensorflow:loss = 0.62346685, step = 8462 (3.943 sec)\n",
      "INFO:tensorflow:global_step/sec: 25.436\n",
      "INFO:tensorflow:loss = 0.8110261, step = 8562 (3.931 sec)\n",
      "INFO:tensorflow:global_step/sec: 25.3692\n",
      "INFO:tensorflow:loss = 0.8712818, step = 8662 (3.942 sec)\n",
      "INFO:tensorflow:global_step/sec: 25.3961\n",
      "INFO:tensorflow:loss = 0.7500515, step = 8762 (3.938 sec)\n",
      "INFO:tensorflow:global_step/sec: 25.4015\n",
      "INFO:tensorflow:loss = 0.8285444, step = 8862 (3.937 sec)\n",
      "INFO:tensorflow:global_step/sec: 25.3726\n",
      "INFO:tensorflow:loss = 0.73076445, step = 8962 (3.941 sec)\n",
      "INFO:tensorflow:global_step/sec: 25.3553\n",
      "INFO:tensorflow:loss = 0.7401779, step = 9062 (3.944 sec)\n",
      "INFO:tensorflow:global_step/sec: 25.4388\n",
      "INFO:tensorflow:loss = 0.82335585, step = 9162 (3.931 sec)\n",
      "INFO:tensorflow:global_step/sec: 25.3972\n",
      "INFO:tensorflow:loss = 0.87078935, step = 9262 (3.937 sec)\n",
      "INFO:tensorflow:global_step/sec: 25.3424\n",
      "INFO:tensorflow:loss = 0.8229953, step = 9362 (3.946 sec)\n",
      "INFO:tensorflow:global_step/sec: 25.4273\n",
      "INFO:tensorflow:loss = 0.8303018, step = 9462 (3.933 sec)\n",
      "INFO:tensorflow:global_step/sec: 25.3066\n",
      "INFO:tensorflow:loss = 0.77975494, step = 9562 (3.951 sec)\n",
      "INFO:tensorflow:global_step/sec: 25.4189\n",
      "INFO:tensorflow:loss = 0.69379115, step = 9662 (3.934 sec)\n",
      "INFO:tensorflow:global_step/sec: 25.3914\n",
      "INFO:tensorflow:loss = 0.73751795, step = 9762 (3.938 sec)\n",
      "INFO:tensorflow:global_step/sec: 25.4654\n",
      "INFO:tensorflow:loss = 0.85199666, step = 9862 (3.927 sec)\n"
     ]
    }
   ],
   "source": [
    "# 학습 실행\n",
    "classifier.train(input_fn=lambda:data.train_input_fn(\n",
    "    train_input_enc, train_output_dec, train_target_dec,  DEFINES.batch_size), steps=DEFINES.train_steps)"
   ]
  },
  {
   "cell_type": "markdown",
   "metadata": {},
   "source": [
    "# 평가 하기"
   ]
  },
  {
   "cell_type": "code",
   "execution_count": null,
   "metadata": {},
   "outputs": [],
   "source": [
    "eval_result = classifier.evaluate(input_fn=lambda:data.eval_input_fn(\n",
    "    eval_input_enc, eval_output_dec, eval_target_dec,  DEFINES.batch_size))\n",
    "print('\\nEVAL set accuracy: {accuracy:0.3f}\\n'.format(**eval_result))"
   ]
  },
  {
   "cell_type": "markdown",
   "metadata": {},
   "source": [
    "# 테스트 하기"
   ]
  },
  {
   "cell_type": "code",
   "execution_count": null,
   "metadata": {},
   "outputs": [],
   "source": [
    "# 테스트용 데이터 만드는 부분이다.\n",
    "# 인코딩 부분 만든다.\n",
    "predic_input_enc, predic_input_enc_length = data.enc_processing([\"가끔 궁금해\"], char2idx)\n",
    "# 학습 과정이 아니므로 디코딩 입력은 \n",
    "# 존재하지 않는다.(구조를 맞추기 위해 넣는다.)\n",
    "predic_output_dec, predic_output_decLength = data.dec_output_processing([\"\"], char2idx)       \n",
    "# 학습 과정이 아니므로 디코딩 출력 부분도 \n",
    "# 존재하지 않는다.(구조를 맞추기 위해 넣는다.)\n",
    "predic_target_dec = data.dec_target_processing([\"\"], char2idx)      \n",
    "\n",
    "# 예측을 하는 부분이다.\n",
    "predictions = classifier.predict(\n",
    "    input_fn=lambda:data.eval_input_fn(predic_input_enc, predic_output_dec, predic_target_dec, DEFINES.batch_size))\n",
    "\n",
    "# 예측한 값을 인지 할 수 있도록 \n",
    "# 텍스트로 변경하는 부분이다.\n",
    "data.pred2string(predictions, idx2char)"
   ]
  },
  {
   "cell_type": "code",
   "execution_count": null,
   "metadata": {},
   "outputs": [],
   "source": []
  }
 ],
 "metadata": {
  "kernelspec": {
   "display_name": "Python 3",
   "language": "python",
   "name": "python3"
  },
  "language_info": {
   "codemirror_mode": {
    "name": "ipython",
    "version": 3
   },
   "file_extension": ".py",
   "mimetype": "text/x-python",
   "name": "python",
   "nbconvert_exporter": "python",
   "pygments_lexer": "ipython3",
   "version": "3.6.6"
  }
 },
 "nbformat": 4,
 "nbformat_minor": 2
}
